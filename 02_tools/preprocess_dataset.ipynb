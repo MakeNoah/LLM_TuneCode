{
 "cells": [
  {
   "cell_type": "markdown",
   "metadata": {},
   "source": [
    "# データを持ってきてichikaraの形式に統一する"
   ]
  },
  {
   "cell_type": "code",
   "execution_count": null,
   "metadata": {},
   "outputs": [
    {
     "name": "stderr",
     "output_type": "stream",
     "text": [
      "/home/ytr/Devs/007_松尾研最終課題/.venv/lib/python3.10/site-packages/tqdm/auto.py:21: TqdmWarning: IProgress not found. Please update jupyter and ipywidgets. See https://ipywidgets.readthedocs.io/en/stable/user_install.html\n",
      "  from .autonotebook import tqdm as notebook_tqdm\n"
     ]
    }
   ],
   "source": [
    "# データをインポート\n",
    "import pandas as pd\n",
    "# ロード、およそ35秒ほど\n",
    "df = pd.read_json(\"hf://datasets/llm-jp/magpie-sft-v1.0/magpie-sft-v1.0.jsonl\", lines=True)"
   ]
  },
  {
   "cell_type": "code",
   "execution_count": 3,
   "metadata": {},
   "outputs": [
    {
     "data": {
      "text/html": [
       "<div>\n",
       "<style scoped>\n",
       "    .dataframe tbody tr th:only-of-type {\n",
       "        vertical-align: middle;\n",
       "    }\n",
       "\n",
       "    .dataframe tbody tr th {\n",
       "        vertical-align: top;\n",
       "    }\n",
       "\n",
       "    .dataframe thead th {\n",
       "        text-align: right;\n",
       "    }\n",
       "</style>\n",
       "<table border=\"1\" class=\"dataframe\">\n",
       "  <thead>\n",
       "    <tr style=\"text-align: right;\">\n",
       "      <th></th>\n",
       "      <th>id</th>\n",
       "      <th>conversations</th>\n",
       "      <th>gen_usr_configs</th>\n",
       "      <th>gen_asst_configs</th>\n",
       "    </tr>\n",
       "  </thead>\n",
       "  <tbody>\n",
       "    <tr>\n",
       "      <th>0</th>\n",
       "      <td>0</td>\n",
       "      <td>[{'role': 'user', 'content': 'カボチャを使ったスイーツのレシピ...</td>\n",
       "      <td>{'input_generator': 'cyberagent/calm3-22b-chat...</td>\n",
       "      <td>{'input_generator': 'Qwen/Qwen2.5-32B-Instruct...</td>\n",
       "    </tr>\n",
       "  </tbody>\n",
       "</table>\n",
       "</div>"
      ],
      "text/plain": [
       "   id                                      conversations  \\\n",
       "0   0  [{'role': 'user', 'content': 'カボチャを使ったスイーツのレシピ...   \n",
       "\n",
       "                                     gen_usr_configs  \\\n",
       "0  {'input_generator': 'cyberagent/calm3-22b-chat...   \n",
       "\n",
       "                                    gen_asst_configs  \n",
       "0  {'input_generator': 'Qwen/Qwen2.5-32B-Instruct...  "
      ]
     },
     "execution_count": 3,
     "metadata": {},
     "output_type": "execute_result"
    }
   ],
   "source": [
    "df.head(1)"
   ]
  },
  {
   "cell_type": "code",
   "execution_count": 8,
   "metadata": {},
   "outputs": [
    {
     "name": "stdout",
     "output_type": "stream",
     "text": [
      "[{'content': 'カボチャを使ったスイーツのレシピをいくつか教えてください。', 'role': 'user'},\n",
      " {'content': 'もちろんです、カボチャを使ったスイーツは秋にぴったりですね。以下にいくつかのレシピをご紹介します。\\n'\n",
      "             '\\n'\n",
      "             '1. カボチャのスフレパウンドケーキ\\n'\n",
      "             '- 材料：カボチャ 200g、生クリーム 50ml、牛乳 50ml、卵 3個、砂糖 100g、薄力粉 70g、バニラエッセンス '\n",
      "             '少々\\n'\n",
      "             '- '\n",
      "             '調理方法：カボチャを蒸してつぶし、生クリームと牛乳を加えて混ぜる。別のボウルで卵黄と砂糖を混ぜて、その中にカボチャミックスを加える。さらに薄力粉を加えて混ぜる。卵白を泡立て器で固まり始めたら、徐々に残りの砂糖を加えながらしっかりと泡立てる。カボチャミックスに卵白を加えて混ぜる。型に流し入れ、180度に予熱したオーブンで約40分焼く。\\n'\n",
      "             '\\n'\n",
      "             '2. カボチャのプディング\\n'\n",
      "             '- 材料：カボチャ 150g、牛乳 200ml、砂糖 大さじ4、ゼラチン 大さじ1、バニラエッセンス 少々\\n'\n",
      "             '- '\n",
      "             '調理方法：カボチャを蒸してつぶし、牛乳と砂糖を加えて混ぜる。ゼラチンを水に溶かし、その中にカボチャミックスを加える。バニラエッセンスを加えて混ぜ、型に流し入れて冷蔵庫で固める。\\n'\n",
      "             '\\n'\n",
      "             '3. カボチャのアイスクリーム\\n'\n",
      "             '- 材料：カボチャ 200g、牛乳 200ml、砂糖 大さじ4、バニラエッセンス 少々\\n'\n",
      "             '- '\n",
      "             '調理方法：カボチャを蒸してつぶし、牛乳、砂糖、バニラエッセンスを加えて混ぜる。フライパンで煮て、均一になるまで攪拌する。冷ましてから、アイスクリームメーカーで凍らせる。\\n'\n",
      "             '\\n'\n",
      "             'これらのレシピをお試しください！それぞれ、季節感あふれる美味しいスイーツになりますよ。',\n",
      "  'role': 'assistant'}]\n",
      "{'input_generator': 'cyberagent/calm3-22b-chat',\n",
      " 'repetition_penalty': 1.05,\n",
      " 'seed': 42,\n",
      " 'temperature': 0.7000000000000001,\n",
      " 'top_p': 0.9500000000000001}\n",
      "{'input_generator': 'Qwen/Qwen2.5-32B-Instruct',\n",
      " 'repetition_penalty': 1.05,\n",
      " 'seed': 42,\n",
      " 'temperature': 0.7000000000000001,\n",
      " 'top_p': 0.9500000000000001}\n"
     ]
    }
   ],
   "source": [
    "from pprint import pprint\n",
    "pprint(df[\"conversations\"][0])\n",
    "pprint(df[\"gen_usr_configs\"][0])\n",
    "pprint(df[\"gen_asst_configs\"][0])"
   ]
  },
  {
   "cell_type": "code",
   "execution_count": 19,
   "metadata": {},
   "outputs": [
    {
     "name": "stdout",
     "output_type": "stream",
     "text": [
      "'カボチャを使ったスイーツのレシピをいくつか教えてください。'\n",
      "('もちろんです、カボチャを使ったスイーツは秋にぴったりですね。以下にいくつかのレシピをご紹介します。\\n'\n",
      " '\\n'\n",
      " '1. カボチャのスフレパウンドケーキ\\n'\n",
      " '- 材料：カボチャ 200g、生クリーム 50ml、牛乳 50ml、卵 3個、砂糖 100g、薄力粉 70g、バニラエッセンス 少々\\n'\n",
      " '- '\n",
      " '調理方法：カボチャを蒸してつぶし、生クリームと牛乳を加えて混ぜる。別のボウルで卵黄と砂糖を混ぜて、その中にカボチャミックスを加える。さらに薄力粉を加えて混ぜる。卵白を泡立て器で固まり始めたら、徐々に残りの砂糖を加えながらしっかりと泡立てる。カボチャミックスに卵白を加えて混ぜる。型に流し入れ、180度に予熱したオーブンで約40分焼く。\\n'\n",
      " '\\n'\n",
      " '2. カボチャのプディング\\n'\n",
      " '- 材料：カボチャ 150g、牛乳 200ml、砂糖 大さじ4、ゼラチン 大さじ1、バニラエッセンス 少々\\n'\n",
      " '- '\n",
      " '調理方法：カボチャを蒸してつぶし、牛乳と砂糖を加えて混ぜる。ゼラチンを水に溶かし、その中にカボチャミックスを加える。バニラエッセンスを加えて混ぜ、型に流し入れて冷蔵庫で固める。\\n'\n",
      " '\\n'\n",
      " '3. カボチャのアイスクリーム\\n'\n",
      " '- 材料：カボチャ 200g、牛乳 200ml、砂糖 大さじ4、バニラエッセンス 少々\\n'\n",
      " '- '\n",
      " '調理方法：カボチャを蒸してつぶし、牛乳、砂糖、バニラエッセンスを加えて混ぜる。フライパンで煮て、均一になるまで攪拌する。冷ましてから、アイスクリームメーカーで凍らせる。\\n'\n",
      " '\\n'\n",
      " 'これらのレシピをお試しください！それぞれ、季節感あふれる美味しいスイーツになりますよ。')\n",
      "[{'content': '以下の文章における「2013年」についての情報が正確かどうか確認したいので、教えてください。', 'role': 'user'},\n",
      " {'content': 'もちろんですが、まずその文章をご提供いただけますか？ それにより正確な情報を確認することができます。',\n",
      "  'role': 'assistant'}]\n"
     ]
    }
   ],
   "source": [
    "pprint(df[\"conversations\"][0][0][\"content\"]) #によればここからユーザ入力のdictがとれる、ここからcontentをとればヨシ\n",
    "pprint(df[\"conversations\"][0][1][\"content\"]) #によればここからAI入力のdictがとれる、ここからcontentをとればヨシ\n",
    "pprint(df[\"conversations\"][1]) #によればここから次の段のユーザ入力のdictがとれる、ここからcontentをとればヨシ"
   ]
  },
  {
   "cell_type": "code",
   "execution_count": null,
   "metadata": {},
   "outputs": [],
   "source": [
    "# ではここからデータ加工を行う、ichikaraは以下の形式\n",
    "\"\"\"\n",
    "[\n",
    "  {\n",
    "    \"ID\" : \"1\",\n",
    "    \"text\": \"text\",\n",
    "    \"output\": \"output\"\n",
    "  }, {...}\n",
    "]\n",
    "\"\"\"\n",
    "# なので forで回して格納、json出力すれば良いと思われる"
   ]
  },
  {
   "cell_type": "code",
   "execution_count": 25,
   "metadata": {},
   "outputs": [
    {
     "name": "stdout",
     "output_type": "stream",
     "text": [
      "Chunk 1 saved to outputs/output_chunk_1.json\n",
      "Chunk 2 saved to outputs/output_chunk_2.json\n",
      "Chunk 3 saved to outputs/output_chunk_3.json\n",
      "Chunk 4 saved to outputs/output_chunk_4.json\n",
      "Chunk 5 saved to outputs/output_chunk_5.json\n",
      "Chunk 6 saved to outputs/output_chunk_6.json\n",
      "Chunk 7 saved to outputs/output_chunk_7.json\n",
      "Chunk 8 saved to outputs/output_chunk_8.json\n",
      "Chunk 9 saved to outputs/output_chunk_9.json\n",
      "Chunk 10 saved to outputs/output_chunk_10.json\n",
      "Chunk 11 saved to outputs/output_chunk_11.json\n",
      "Chunk 12 saved to outputs/output_chunk_12.json\n",
      "Chunk 13 saved to outputs/output_chunk_13.json\n",
      "Chunk 14 saved to outputs/output_chunk_14.json\n",
      "Chunk 15 saved to outputs/output_chunk_15.json\n",
      "Chunk 16 saved to outputs/output_chunk_16.json\n",
      "Chunk 17 saved to outputs/output_chunk_17.json\n",
      "Chunk 18 saved to outputs/output_chunk_18.json\n",
      "Chunk 19 saved to outputs/output_chunk_19.json\n",
      "Chunk 20 saved to outputs/output_chunk_20.json\n",
      "Chunk 21 saved to outputs/output_chunk_21.json\n",
      "Chunk 22 saved to outputs/output_chunk_22.json\n",
      "Chunk 23 saved to outputs/output_chunk_23.json\n",
      "Chunk 24 saved to outputs/output_chunk_24.json\n",
      "Chunk 25 saved to outputs/output_chunk_25.json\n",
      "Chunk 26 saved to outputs/output_chunk_26.json\n",
      "Chunk 27 saved to outputs/output_chunk_27.json\n",
      "Chunk 28 saved to outputs/output_chunk_28.json\n",
      "Chunk 29 saved to outputs/output_chunk_29.json\n",
      "Chunk 30 saved to outputs/output_chunk_30.json\n",
      "Chunk 31 saved to outputs/output_chunk_31.json\n",
      "Chunk 32 saved to outputs/output_chunk_32.json\n",
      "Chunk 33 saved to outputs/output_chunk_33.json\n",
      "Chunk 34 saved to outputs/output_chunk_34.json\n",
      "Chunk 35 saved to outputs/output_chunk_35.json\n",
      "Chunk 36 saved to outputs/output_chunk_36.json\n",
      "Chunk 37 saved to outputs/output_chunk_37.json\n",
      "Chunk 38 saved to outputs/output_chunk_38.json\n",
      "Chunk 39 saved to outputs/output_chunk_39.json\n",
      "Chunk 40 saved to outputs/output_chunk_40.json\n",
      "Chunk 41 saved to outputs/output_chunk_41.json\n",
      "Chunk 42 saved to outputs/output_chunk_42.json\n",
      "Chunk 43 saved to outputs/output_chunk_43.json\n",
      "Chunk 44 saved to outputs/output_chunk_44.json\n",
      "Chunk 45 saved to outputs/output_chunk_45.json\n",
      "Chunk 46 saved to outputs/output_chunk_46.json\n",
      "Chunk 47 saved to outputs/output_chunk_47.json\n",
      "Chunk 48 saved to outputs/output_chunk_48.json\n",
      "Chunk 49 saved to outputs/output_chunk_49.json\n",
      "Chunk 50 saved to outputs/output_chunk_50.json\n",
      "Chunk 51 saved to outputs/output_chunk_51.json\n",
      "Chunk 52 saved to outputs/output_chunk_52.json\n",
      "Chunk 53 saved to outputs/output_chunk_53.json\n",
      "Chunk 54 saved to outputs/output_chunk_54.json\n",
      "Chunk 55 saved to outputs/output_chunk_55.json\n",
      "Chunk 56 saved to outputs/output_chunk_56.json\n",
      "Chunk 57 saved to outputs/output_chunk_57.json\n",
      "Chunk 58 saved to outputs/output_chunk_58.json\n",
      "Chunk 59 saved to outputs/output_chunk_59.json\n",
      "Chunk 60 saved to outputs/output_chunk_60.json\n",
      "Chunk 61 saved to outputs/output_chunk_61.json\n",
      "Chunk 62 saved to outputs/output_chunk_62.json\n",
      "Chunk 63 saved to outputs/output_chunk_63.json\n",
      "Chunk 64 saved to outputs/output_chunk_64.json\n",
      "Chunk 65 saved to outputs/output_chunk_65.json\n",
      "Chunk 66 saved to outputs/output_chunk_66.json\n",
      "Chunk 67 saved to outputs/output_chunk_67.json\n",
      "Chunk 68 saved to outputs/output_chunk_68.json\n",
      "Chunk 69 saved to outputs/output_chunk_69.json\n",
      "Chunk 70 saved to outputs/output_chunk_70.json\n",
      "Chunk 71 saved to outputs/output_chunk_71.json\n",
      "Chunk 72 saved to outputs/output_chunk_72.json\n",
      "Chunk 73 saved to outputs/output_chunk_73.json\n",
      "Chunk 74 saved to outputs/output_chunk_74.json\n",
      "Chunk 75 saved to outputs/output_chunk_75.json\n",
      "Chunk 76 saved to outputs/output_chunk_76.json\n",
      "Chunk 77 saved to outputs/output_chunk_77.json\n",
      "Chunk 78 saved to outputs/output_chunk_78.json\n",
      "Chunk 79 saved to outputs/output_chunk_79.json\n",
      "Chunk 80 saved to outputs/output_chunk_80.json\n",
      "Chunk 81 saved to outputs/output_chunk_81.json\n",
      "Chunk 82 saved to outputs/output_chunk_82.json\n",
      "Chunk 83 saved to outputs/output_chunk_83.json\n",
      "Chunk 84 saved to outputs/output_chunk_84.json\n",
      "Chunk 85 saved to outputs/output_chunk_85.json\n",
      "Chunk 86 saved to outputs/output_chunk_86.json\n",
      "Chunk 87 saved to outputs/output_chunk_87.json\n",
      "Chunk 88 saved to outputs/output_chunk_88.json\n",
      "Chunk 89 saved to outputs/output_chunk_89.json\n",
      "Chunk 90 saved to outputs/output_chunk_90.json\n",
      "Chunk 91 saved to outputs/output_chunk_91.json\n",
      "Chunk 92 saved to outputs/output_chunk_92.json\n",
      "Chunk 93 saved to outputs/output_chunk_93.json\n",
      "Chunk 94 saved to outputs/output_chunk_94.json\n",
      "Chunk 95 saved to outputs/output_chunk_95.json\n",
      "Chunk 96 saved to outputs/output_chunk_96.json\n",
      "Chunk 97 saved to outputs/output_chunk_97.json\n",
      "Chunk 98 saved to outputs/output_chunk_98.json\n",
      "Chunk 99 saved to outputs/output_chunk_99.json\n",
      "Chunk 100 saved to outputs/output_chunk_100.json\n"
     ]
    }
   ],
   "source": [
    "import json\n",
    "import os\n",
    "\n",
    "# 出力フォルダ設定\n",
    "output_folder = \"outputs\"\n",
    "os.makedirs(output_folder, exist_ok=True)\n",
    "\n",
    "# 分割設定（割合で指定）\n",
    "split_ratio = 100  # データを何分割するか（5分割なら2000件ずつ）\n",
    "total_data = len(df[\"conversations\"])\n",
    "data_per_chunk = total_data // split_ratio\n",
    "\n",
    "# JSON形式に変換して保存\n",
    "for chunk_count in range(split_ratio):\n",
    "    start_idx = chunk_count * data_per_chunk\n",
    "    end_idx = start_idx + data_per_chunk if chunk_count < split_ratio - 1 else total_data\n",
    "\n",
    "    # 現在のチャンクデータを作成\n",
    "    current_chunk = [\n",
    "        {\n",
    "            \"ID\": str(idx + 1),\n",
    "            \"text\": df[\"conversations\"][idx][0][\"content\"],\n",
    "            \"output\": df[\"conversations\"][idx][1][\"content\"]\n",
    "        }\n",
    "        for idx in range(start_idx, end_idx)\n",
    "    ]\n",
    "\n",
    "    # ファイル名と保存パスの設定\n",
    "    output_file = os.path.join(output_folder, f\"output_chunk_{chunk_count + 1}.json\")\n",
    "    with open(output_file, \"w\", encoding=\"utf-8\") as f:\n",
    "        json.dump(current_chunk, f, ensure_ascii=False, indent=2)\n",
    "\n",
    "    # 保存完了メッセージ\n",
    "    print(f\"Chunk {chunk_count + 1} saved to {output_file}\")\n"
   ]
  }
 ],
 "metadata": {
  "kernelspec": {
   "display_name": ".venv",
   "language": "python",
   "name": "python3"
  },
  "language_info": {
   "codemirror_mode": {
    "name": "ipython",
    "version": 3
   },
   "file_extension": ".py",
   "mimetype": "text/x-python",
   "name": "python",
   "nbconvert_exporter": "python",
   "pygments_lexer": "ipython3",
   "version": "3.10.12"
  }
 },
 "nbformat": 4,
 "nbformat_minor": 2
}
